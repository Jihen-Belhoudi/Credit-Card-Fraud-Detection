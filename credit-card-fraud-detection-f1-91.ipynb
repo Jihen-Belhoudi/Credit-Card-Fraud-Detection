{
 "cells": [
  {
   "cell_type": "code",
   "execution_count": 1,
   "id": "e43c876f",
   "metadata": {
    "_cell_guid": "b1076dfc-b9ad-4769-8c92-a6c4dae69d19",
    "_uuid": "8f2839f25d086af736a60e9eeb907d3b93b6e0e5",
    "execution": {
     "iopub.execute_input": "2022-01-10T14:38:09.719239Z",
     "iopub.status.busy": "2022-01-10T14:38:09.717314Z",
     "iopub.status.idle": "2022-01-10T14:38:09.738064Z",
     "shell.execute_reply": "2022-01-10T14:38:09.738682Z",
     "shell.execute_reply.started": "2022-01-10T14:35:02.459717Z"
    },
    "papermill": {
     "duration": 0.057169,
     "end_time": "2022-01-10T14:38:09.739038",
     "exception": false,
     "start_time": "2022-01-10T14:38:09.681869",
     "status": "completed"
    },
    "tags": []
   },
   "outputs": [
    {
     "name": "stdout",
     "output_type": "stream",
     "text": [
      "/kaggle/input/creditcardfraud/creditcard.csv\n"
     ]
    }
   ],
   "source": [
    "# This Python 3 environment comes with many helpful analytics libraries installed\n",
    "# It is defined by the kaggle/python Docker image: https://github.com/kaggle/docker-python\n",
    "# For example, here's several helpful packages to load\n",
    "\n",
    "import numpy as np # linear algebra\n",
    "import pandas as pd # data processing, CSV file I/O (e.g. pd.read_csv)\n",
    "\n",
    "# Input data files are available in the read-only \"../input/\" directory\n",
    "# For example, running this (by clicking run or pressing Shift+Enter) will list all files under the input directory\n",
    "\n",
    "import os\n",
    "for dirname, _, filenames in os.walk('/kaggle/input'):\n",
    "    for filename in filenames:\n",
    "        print(os.path.join(dirname, filename))\n",
    "\n",
    "# You can write up to 20GB to the current directory (/kaggle/working/) that gets preserved as output when you create a version using \"Save & Run All\" \n",
    "# You can also write temporary files to /kaggle/temp/, but they won't be saved outside of the current session"
   ]
  },
  {
   "cell_type": "markdown",
   "id": "4ac05452",
   "metadata": {
    "papermill": {
     "duration": 0.024558,
     "end_time": "2022-01-10T14:38:09.790202",
     "exception": false,
     "start_time": "2022-01-10T14:38:09.765644",
     "status": "completed"
    },
    "tags": []
   },
   "source": [
    "****Importing All Necessary API****"
   ]
  },
  {
   "cell_type": "code",
   "execution_count": 2,
   "id": "4f416bc5",
   "metadata": {
    "execution": {
     "iopub.execute_input": "2022-01-10T14:38:09.845660Z",
     "iopub.status.busy": "2022-01-10T14:38:09.844932Z",
     "iopub.status.idle": "2022-01-10T14:38:11.192380Z",
     "shell.execute_reply": "2022-01-10T14:38:11.191733Z",
     "shell.execute_reply.started": "2022-01-10T14:35:02.476652Z"
    },
    "papermill": {
     "duration": 1.37749,
     "end_time": "2022-01-10T14:38:11.192535",
     "exception": false,
     "start_time": "2022-01-10T14:38:09.815045",
     "status": "completed"
    },
    "tags": []
   },
   "outputs": [],
   "source": [
    "import numpy as np\n",
    "import pandas as pd\n",
    "from sklearn.model_selection import train_test_split\n",
    "from sklearn.linear_model import LogisticRegression\n",
    "from sklearn.metrics import accuracy_score\n",
    "import seaborn as sns\n",
    "import matplotlib.pyplot as plt\n",
    "from sklearn.metrics import f1_score\n"
   ]
  },
  {
   "cell_type": "markdown",
   "id": "f12d4a20",
   "metadata": {
    "papermill": {
     "duration": 0.024624,
     "end_time": "2022-01-10T14:38:11.242282",
     "exception": false,
     "start_time": "2022-01-10T14:38:11.217658",
     "status": "completed"
    },
    "tags": []
   },
   "source": [
    "***loading the dataset to a Pandas DataFrame***\n"
   ]
  },
  {
   "cell_type": "code",
   "execution_count": 3,
   "id": "5859e0ac",
   "metadata": {
    "execution": {
     "iopub.execute_input": "2022-01-10T14:38:11.296294Z",
     "iopub.status.busy": "2022-01-10T14:38:11.295270Z",
     "iopub.status.idle": "2022-01-10T14:38:15.919991Z",
     "shell.execute_reply": "2022-01-10T14:38:15.919407Z",
     "shell.execute_reply.started": "2022-01-10T14:35:02.505919Z"
    },
    "papermill": {
     "duration": 4.65281,
     "end_time": "2022-01-10T14:38:15.920184",
     "exception": false,
     "start_time": "2022-01-10T14:38:11.267374",
     "status": "completed"
    },
    "tags": []
   },
   "outputs": [],
   "source": [
    "data = pd.read_csv('/kaggle/input/creditcardfraud/creditcard.csv')"
   ]
  },
  {
   "cell_type": "code",
   "execution_count": 4,
   "id": "7b94abed",
   "metadata": {
    "execution": {
     "iopub.execute_input": "2022-01-10T14:38:15.977341Z",
     "iopub.status.busy": "2022-01-10T14:38:15.976379Z",
     "iopub.status.idle": "2022-01-10T14:38:15.980107Z",
     "shell.execute_reply": "2022-01-10T14:38:15.980593Z",
     "shell.execute_reply.started": "2022-01-10T14:35:05.499360Z"
    },
    "papermill": {
     "duration": 0.035299,
     "end_time": "2022-01-10T14:38:15.980780",
     "exception": false,
     "start_time": "2022-01-10T14:38:15.945481",
     "status": "completed"
    },
    "tags": []
   },
   "outputs": [
    {
     "name": "stdout",
     "output_type": "stream",
     "text": [
      "Index(['Time', 'V1', 'V2', 'V3', 'V4', 'V5', 'V6', 'V7', 'V8', 'V9', 'V10',\n",
      "       'V11', 'V12', 'V13', 'V14', 'V15', 'V16', 'V17', 'V18', 'V19', 'V20',\n",
      "       'V21', 'V22', 'V23', 'V24', 'V25', 'V26', 'V27', 'V28', 'Amount',\n",
      "       'Class'],\n",
      "      dtype='object')\n"
     ]
    }
   ],
   "source": [
    "# Start exploring the dataset\n",
    "print(data.columns)"
   ]
  },
  {
   "cell_type": "code",
   "execution_count": 5,
   "id": "a42810de",
   "metadata": {
    "execution": {
     "iopub.execute_input": "2022-01-10T14:38:16.050723Z",
     "iopub.status.busy": "2022-01-10T14:38:16.049768Z",
     "iopub.status.idle": "2022-01-10T14:38:16.077676Z",
     "shell.execute_reply": "2022-01-10T14:38:16.078214Z",
     "shell.execute_reply.started": "2022-01-10T14:35:05.506173Z"
    },
    "papermill": {
     "duration": 0.071878,
     "end_time": "2022-01-10T14:38:16.078388",
     "exception": false,
     "start_time": "2022-01-10T14:38:16.006510",
     "status": "completed"
    },
    "tags": []
   },
   "outputs": [
    {
     "data": {
      "text/html": [
       "<div>\n",
       "<style scoped>\n",
       "    .dataframe tbody tr th:only-of-type {\n",
       "        vertical-align: middle;\n",
       "    }\n",
       "\n",
       "    .dataframe tbody tr th {\n",
       "        vertical-align: top;\n",
       "    }\n",
       "\n",
       "    .dataframe thead th {\n",
       "        text-align: right;\n",
       "    }\n",
       "</style>\n",
       "<table border=\"1\" class=\"dataframe\">\n",
       "  <thead>\n",
       "    <tr style=\"text-align: right;\">\n",
       "      <th></th>\n",
       "      <th>Time</th>\n",
       "      <th>V1</th>\n",
       "      <th>V2</th>\n",
       "      <th>V3</th>\n",
       "      <th>V4</th>\n",
       "      <th>V5</th>\n",
       "      <th>V6</th>\n",
       "      <th>V7</th>\n",
       "      <th>V8</th>\n",
       "      <th>V9</th>\n",
       "      <th>...</th>\n",
       "      <th>V21</th>\n",
       "      <th>V22</th>\n",
       "      <th>V23</th>\n",
       "      <th>V24</th>\n",
       "      <th>V25</th>\n",
       "      <th>V26</th>\n",
       "      <th>V27</th>\n",
       "      <th>V28</th>\n",
       "      <th>Amount</th>\n",
       "      <th>Class</th>\n",
       "    </tr>\n",
       "  </thead>\n",
       "  <tbody>\n",
       "    <tr>\n",
       "      <th>0</th>\n",
       "      <td>0.0</td>\n",
       "      <td>-1.359807</td>\n",
       "      <td>-0.072781</td>\n",
       "      <td>2.536347</td>\n",
       "      <td>1.378155</td>\n",
       "      <td>-0.338321</td>\n",
       "      <td>0.462388</td>\n",
       "      <td>0.239599</td>\n",
       "      <td>0.098698</td>\n",
       "      <td>0.363787</td>\n",
       "      <td>...</td>\n",
       "      <td>-0.018307</td>\n",
       "      <td>0.277838</td>\n",
       "      <td>-0.110474</td>\n",
       "      <td>0.066928</td>\n",
       "      <td>0.128539</td>\n",
       "      <td>-0.189115</td>\n",
       "      <td>0.133558</td>\n",
       "      <td>-0.021053</td>\n",
       "      <td>149.62</td>\n",
       "      <td>0</td>\n",
       "    </tr>\n",
       "    <tr>\n",
       "      <th>1</th>\n",
       "      <td>0.0</td>\n",
       "      <td>1.191857</td>\n",
       "      <td>0.266151</td>\n",
       "      <td>0.166480</td>\n",
       "      <td>0.448154</td>\n",
       "      <td>0.060018</td>\n",
       "      <td>-0.082361</td>\n",
       "      <td>-0.078803</td>\n",
       "      <td>0.085102</td>\n",
       "      <td>-0.255425</td>\n",
       "      <td>...</td>\n",
       "      <td>-0.225775</td>\n",
       "      <td>-0.638672</td>\n",
       "      <td>0.101288</td>\n",
       "      <td>-0.339846</td>\n",
       "      <td>0.167170</td>\n",
       "      <td>0.125895</td>\n",
       "      <td>-0.008983</td>\n",
       "      <td>0.014724</td>\n",
       "      <td>2.69</td>\n",
       "      <td>0</td>\n",
       "    </tr>\n",
       "    <tr>\n",
       "      <th>2</th>\n",
       "      <td>1.0</td>\n",
       "      <td>-1.358354</td>\n",
       "      <td>-1.340163</td>\n",
       "      <td>1.773209</td>\n",
       "      <td>0.379780</td>\n",
       "      <td>-0.503198</td>\n",
       "      <td>1.800499</td>\n",
       "      <td>0.791461</td>\n",
       "      <td>0.247676</td>\n",
       "      <td>-1.514654</td>\n",
       "      <td>...</td>\n",
       "      <td>0.247998</td>\n",
       "      <td>0.771679</td>\n",
       "      <td>0.909412</td>\n",
       "      <td>-0.689281</td>\n",
       "      <td>-0.327642</td>\n",
       "      <td>-0.139097</td>\n",
       "      <td>-0.055353</td>\n",
       "      <td>-0.059752</td>\n",
       "      <td>378.66</td>\n",
       "      <td>0</td>\n",
       "    </tr>\n",
       "    <tr>\n",
       "      <th>3</th>\n",
       "      <td>1.0</td>\n",
       "      <td>-0.966272</td>\n",
       "      <td>-0.185226</td>\n",
       "      <td>1.792993</td>\n",
       "      <td>-0.863291</td>\n",
       "      <td>-0.010309</td>\n",
       "      <td>1.247203</td>\n",
       "      <td>0.237609</td>\n",
       "      <td>0.377436</td>\n",
       "      <td>-1.387024</td>\n",
       "      <td>...</td>\n",
       "      <td>-0.108300</td>\n",
       "      <td>0.005274</td>\n",
       "      <td>-0.190321</td>\n",
       "      <td>-1.175575</td>\n",
       "      <td>0.647376</td>\n",
       "      <td>-0.221929</td>\n",
       "      <td>0.062723</td>\n",
       "      <td>0.061458</td>\n",
       "      <td>123.50</td>\n",
       "      <td>0</td>\n",
       "    </tr>\n",
       "    <tr>\n",
       "      <th>4</th>\n",
       "      <td>2.0</td>\n",
       "      <td>-1.158233</td>\n",
       "      <td>0.877737</td>\n",
       "      <td>1.548718</td>\n",
       "      <td>0.403034</td>\n",
       "      <td>-0.407193</td>\n",
       "      <td>0.095921</td>\n",
       "      <td>0.592941</td>\n",
       "      <td>-0.270533</td>\n",
       "      <td>0.817739</td>\n",
       "      <td>...</td>\n",
       "      <td>-0.009431</td>\n",
       "      <td>0.798278</td>\n",
       "      <td>-0.137458</td>\n",
       "      <td>0.141267</td>\n",
       "      <td>-0.206010</td>\n",
       "      <td>0.502292</td>\n",
       "      <td>0.219422</td>\n",
       "      <td>0.215153</td>\n",
       "      <td>69.99</td>\n",
       "      <td>0</td>\n",
       "    </tr>\n",
       "  </tbody>\n",
       "</table>\n",
       "<p>5 rows × 31 columns</p>\n",
       "</div>"
      ],
      "text/plain": [
       "   Time        V1        V2        V3        V4        V5        V6        V7  \\\n",
       "0   0.0 -1.359807 -0.072781  2.536347  1.378155 -0.338321  0.462388  0.239599   \n",
       "1   0.0  1.191857  0.266151  0.166480  0.448154  0.060018 -0.082361 -0.078803   \n",
       "2   1.0 -1.358354 -1.340163  1.773209  0.379780 -0.503198  1.800499  0.791461   \n",
       "3   1.0 -0.966272 -0.185226  1.792993 -0.863291 -0.010309  1.247203  0.237609   \n",
       "4   2.0 -1.158233  0.877737  1.548718  0.403034 -0.407193  0.095921  0.592941   \n",
       "\n",
       "         V8        V9  ...       V21       V22       V23       V24       V25  \\\n",
       "0  0.098698  0.363787  ... -0.018307  0.277838 -0.110474  0.066928  0.128539   \n",
       "1  0.085102 -0.255425  ... -0.225775 -0.638672  0.101288 -0.339846  0.167170   \n",
       "2  0.247676 -1.514654  ...  0.247998  0.771679  0.909412 -0.689281 -0.327642   \n",
       "3  0.377436 -1.387024  ... -0.108300  0.005274 -0.190321 -1.175575  0.647376   \n",
       "4 -0.270533  0.817739  ... -0.009431  0.798278 -0.137458  0.141267 -0.206010   \n",
       "\n",
       "        V26       V27       V28  Amount  Class  \n",
       "0 -0.189115  0.133558 -0.021053  149.62      0  \n",
       "1  0.125895 -0.008983  0.014724    2.69      0  \n",
       "2 -0.139097 -0.055353 -0.059752  378.66      0  \n",
       "3 -0.221929  0.062723  0.061458  123.50      0  \n",
       "4  0.502292  0.219422  0.215153   69.99      0  \n",
       "\n",
       "[5 rows x 31 columns]"
      ]
     },
     "execution_count": 5,
     "metadata": {},
     "output_type": "execute_result"
    }
   ],
   "source": [
    "data.head()"
   ]
  },
  {
   "cell_type": "code",
   "execution_count": 6,
   "id": "33ec54e3",
   "metadata": {
    "execution": {
     "iopub.execute_input": "2022-01-10T14:38:16.146147Z",
     "iopub.status.busy": "2022-01-10T14:38:16.145407Z",
     "iopub.status.idle": "2022-01-10T14:38:16.158897Z",
     "shell.execute_reply": "2022-01-10T14:38:16.159411Z",
     "shell.execute_reply.started": "2022-01-10T14:35:05.547918Z"
    },
    "papermill": {
     "duration": 0.055264,
     "end_time": "2022-01-10T14:38:16.159581",
     "exception": false,
     "start_time": "2022-01-10T14:38:16.104317",
     "status": "completed"
    },
    "tags": []
   },
   "outputs": [
    {
     "data": {
      "text/html": [
       "<div>\n",
       "<style scoped>\n",
       "    .dataframe tbody tr th:only-of-type {\n",
       "        vertical-align: middle;\n",
       "    }\n",
       "\n",
       "    .dataframe tbody tr th {\n",
       "        vertical-align: top;\n",
       "    }\n",
       "\n",
       "    .dataframe thead th {\n",
       "        text-align: right;\n",
       "    }\n",
       "</style>\n",
       "<table border=\"1\" class=\"dataframe\">\n",
       "  <thead>\n",
       "    <tr style=\"text-align: right;\">\n",
       "      <th></th>\n",
       "      <th>Time</th>\n",
       "      <th>V1</th>\n",
       "      <th>V2</th>\n",
       "      <th>V3</th>\n",
       "      <th>V4</th>\n",
       "      <th>V5</th>\n",
       "      <th>V6</th>\n",
       "      <th>V7</th>\n",
       "      <th>V8</th>\n",
       "      <th>V9</th>\n",
       "      <th>...</th>\n",
       "      <th>V21</th>\n",
       "      <th>V22</th>\n",
       "      <th>V23</th>\n",
       "      <th>V24</th>\n",
       "      <th>V25</th>\n",
       "      <th>V26</th>\n",
       "      <th>V27</th>\n",
       "      <th>V28</th>\n",
       "      <th>Amount</th>\n",
       "      <th>Class</th>\n",
       "    </tr>\n",
       "  </thead>\n",
       "  <tbody>\n",
       "    <tr>\n",
       "      <th>284802</th>\n",
       "      <td>172786.0</td>\n",
       "      <td>-11.881118</td>\n",
       "      <td>10.071785</td>\n",
       "      <td>-9.834783</td>\n",
       "      <td>-2.066656</td>\n",
       "      <td>-5.364473</td>\n",
       "      <td>-2.606837</td>\n",
       "      <td>-4.918215</td>\n",
       "      <td>7.305334</td>\n",
       "      <td>1.914428</td>\n",
       "      <td>...</td>\n",
       "      <td>0.213454</td>\n",
       "      <td>0.111864</td>\n",
       "      <td>1.014480</td>\n",
       "      <td>-0.509348</td>\n",
       "      <td>1.436807</td>\n",
       "      <td>0.250034</td>\n",
       "      <td>0.943651</td>\n",
       "      <td>0.823731</td>\n",
       "      <td>0.77</td>\n",
       "      <td>0</td>\n",
       "    </tr>\n",
       "    <tr>\n",
       "      <th>284803</th>\n",
       "      <td>172787.0</td>\n",
       "      <td>-0.732789</td>\n",
       "      <td>-0.055080</td>\n",
       "      <td>2.035030</td>\n",
       "      <td>-0.738589</td>\n",
       "      <td>0.868229</td>\n",
       "      <td>1.058415</td>\n",
       "      <td>0.024330</td>\n",
       "      <td>0.294869</td>\n",
       "      <td>0.584800</td>\n",
       "      <td>...</td>\n",
       "      <td>0.214205</td>\n",
       "      <td>0.924384</td>\n",
       "      <td>0.012463</td>\n",
       "      <td>-1.016226</td>\n",
       "      <td>-0.606624</td>\n",
       "      <td>-0.395255</td>\n",
       "      <td>0.068472</td>\n",
       "      <td>-0.053527</td>\n",
       "      <td>24.79</td>\n",
       "      <td>0</td>\n",
       "    </tr>\n",
       "    <tr>\n",
       "      <th>284804</th>\n",
       "      <td>172788.0</td>\n",
       "      <td>1.919565</td>\n",
       "      <td>-0.301254</td>\n",
       "      <td>-3.249640</td>\n",
       "      <td>-0.557828</td>\n",
       "      <td>2.630515</td>\n",
       "      <td>3.031260</td>\n",
       "      <td>-0.296827</td>\n",
       "      <td>0.708417</td>\n",
       "      <td>0.432454</td>\n",
       "      <td>...</td>\n",
       "      <td>0.232045</td>\n",
       "      <td>0.578229</td>\n",
       "      <td>-0.037501</td>\n",
       "      <td>0.640134</td>\n",
       "      <td>0.265745</td>\n",
       "      <td>-0.087371</td>\n",
       "      <td>0.004455</td>\n",
       "      <td>-0.026561</td>\n",
       "      <td>67.88</td>\n",
       "      <td>0</td>\n",
       "    </tr>\n",
       "    <tr>\n",
       "      <th>284805</th>\n",
       "      <td>172788.0</td>\n",
       "      <td>-0.240440</td>\n",
       "      <td>0.530483</td>\n",
       "      <td>0.702510</td>\n",
       "      <td>0.689799</td>\n",
       "      <td>-0.377961</td>\n",
       "      <td>0.623708</td>\n",
       "      <td>-0.686180</td>\n",
       "      <td>0.679145</td>\n",
       "      <td>0.392087</td>\n",
       "      <td>...</td>\n",
       "      <td>0.265245</td>\n",
       "      <td>0.800049</td>\n",
       "      <td>-0.163298</td>\n",
       "      <td>0.123205</td>\n",
       "      <td>-0.569159</td>\n",
       "      <td>0.546668</td>\n",
       "      <td>0.108821</td>\n",
       "      <td>0.104533</td>\n",
       "      <td>10.00</td>\n",
       "      <td>0</td>\n",
       "    </tr>\n",
       "    <tr>\n",
       "      <th>284806</th>\n",
       "      <td>172792.0</td>\n",
       "      <td>-0.533413</td>\n",
       "      <td>-0.189733</td>\n",
       "      <td>0.703337</td>\n",
       "      <td>-0.506271</td>\n",
       "      <td>-0.012546</td>\n",
       "      <td>-0.649617</td>\n",
       "      <td>1.577006</td>\n",
       "      <td>-0.414650</td>\n",
       "      <td>0.486180</td>\n",
       "      <td>...</td>\n",
       "      <td>0.261057</td>\n",
       "      <td>0.643078</td>\n",
       "      <td>0.376777</td>\n",
       "      <td>0.008797</td>\n",
       "      <td>-0.473649</td>\n",
       "      <td>-0.818267</td>\n",
       "      <td>-0.002415</td>\n",
       "      <td>0.013649</td>\n",
       "      <td>217.00</td>\n",
       "      <td>0</td>\n",
       "    </tr>\n",
       "  </tbody>\n",
       "</table>\n",
       "<p>5 rows × 31 columns</p>\n",
       "</div>"
      ],
      "text/plain": [
       "            Time         V1         V2        V3        V4        V5  \\\n",
       "284802  172786.0 -11.881118  10.071785 -9.834783 -2.066656 -5.364473   \n",
       "284803  172787.0  -0.732789  -0.055080  2.035030 -0.738589  0.868229   \n",
       "284804  172788.0   1.919565  -0.301254 -3.249640 -0.557828  2.630515   \n",
       "284805  172788.0  -0.240440   0.530483  0.702510  0.689799 -0.377961   \n",
       "284806  172792.0  -0.533413  -0.189733  0.703337 -0.506271 -0.012546   \n",
       "\n",
       "              V6        V7        V8        V9  ...       V21       V22  \\\n",
       "284802 -2.606837 -4.918215  7.305334  1.914428  ...  0.213454  0.111864   \n",
       "284803  1.058415  0.024330  0.294869  0.584800  ...  0.214205  0.924384   \n",
       "284804  3.031260 -0.296827  0.708417  0.432454  ...  0.232045  0.578229   \n",
       "284805  0.623708 -0.686180  0.679145  0.392087  ...  0.265245  0.800049   \n",
       "284806 -0.649617  1.577006 -0.414650  0.486180  ...  0.261057  0.643078   \n",
       "\n",
       "             V23       V24       V25       V26       V27       V28  Amount  \\\n",
       "284802  1.014480 -0.509348  1.436807  0.250034  0.943651  0.823731    0.77   \n",
       "284803  0.012463 -1.016226 -0.606624 -0.395255  0.068472 -0.053527   24.79   \n",
       "284804 -0.037501  0.640134  0.265745 -0.087371  0.004455 -0.026561   67.88   \n",
       "284805 -0.163298  0.123205 -0.569159  0.546668  0.108821  0.104533   10.00   \n",
       "284806  0.376777  0.008797 -0.473649 -0.818267 -0.002415  0.013649  217.00   \n",
       "\n",
       "        Class  \n",
       "284802      0  \n",
       "284803      0  \n",
       "284804      0  \n",
       "284805      0  \n",
       "284806      0  \n",
       "\n",
       "[5 rows x 31 columns]"
      ]
     },
     "execution_count": 6,
     "metadata": {},
     "output_type": "execute_result"
    }
   ],
   "source": [
    "data.tail()"
   ]
  },
  {
   "cell_type": "code",
   "execution_count": 7,
   "id": "a7b8b38d",
   "metadata": {
    "execution": {
     "iopub.execute_input": "2022-01-10T14:38:16.221126Z",
     "iopub.status.busy": "2022-01-10T14:38:16.220393Z",
     "iopub.status.idle": "2022-01-10T14:38:17.729118Z",
     "shell.execute_reply": "2022-01-10T14:38:17.728460Z",
     "shell.execute_reply.started": "2022-01-10T14:35:05.577540Z"
    },
    "papermill": {
     "duration": 1.543114,
     "end_time": "2022-01-10T14:38:17.729271",
     "exception": false,
     "start_time": "2022-01-10T14:38:16.186157",
     "status": "completed"
    },
    "tags": []
   },
   "outputs": [
    {
     "name": "stderr",
     "output_type": "stream",
     "text": [
      "/opt/conda/lib/python3.7/site-packages/seaborn/distributions.py:2619: FutureWarning: `distplot` is a deprecated function and will be removed in a future version. Please adapt your code to use either `displot` (a figure-level function with similar flexibility) or `histplot` (an axes-level function for histograms).\n",
      "  warnings.warn(msg, FutureWarning)\n"
     ]
    },
    {
     "data": {
      "text/plain": [
       "<AxesSubplot:ylabel='Density'>"
      ]
     },
     "execution_count": 7,
     "metadata": {},
     "output_type": "execute_result"
    },
    {
     "data": {
      "image/png": "[encoded data removed]",
      "text/plain": [
       "<Figure size 432x288 with 1 Axes>"
      ]
     },
     "metadata": {
      "needs_background": "light"
     },
     "output_type": "display_data"
    }
   ],
   "source": [
    "# distribution of Amount\n",
    "amount = [data['Amount'].values]\n",
    "sns.distplot(amount)"
   ]
  },
  {
   "cell_type": "code",
   "execution_count": 8,
   "id": "e47a48fc",
   "metadata": {
    "execution": {
     "iopub.execute_input": "2022-01-10T14:38:17.793770Z",
     "iopub.status.busy": "2022-01-10T14:38:17.792727Z",
     "iopub.status.idle": "2022-01-10T14:38:19.612429Z",
     "shell.execute_reply": "2022-01-10T14:38:19.611242Z",
     "shell.execute_reply.started": "2022-01-10T14:35:07.088068Z"
    },
    "papermill": {
     "duration": 1.855034,
     "end_time": "2022-01-10T14:38:19.612651",
     "exception": false,
     "start_time": "2022-01-10T14:38:17.757617",
     "status": "completed"
    },
    "tags": []
   },
   "outputs": [
    {
     "name": "stderr",
     "output_type": "stream",
     "text": [
      "/opt/conda/lib/python3.7/site-packages/seaborn/distributions.py:2619: FutureWarning: `distplot` is a deprecated function and will be removed in a future version. Please adapt your code to use either `displot` (a figure-level function with similar flexibility) or `histplot` (an axes-level function for histograms).\n",
      "  warnings.warn(msg, FutureWarning)\n"
     ]
    },
    {
     "data": {
      "text/plain": [
       "<AxesSubplot:ylabel='Density'>"
      ]
     },
     "execution_count": 8,
     "metadata": {},
     "output_type": "execute_result"
    },
    {
     "data": {
      "image/png": "[encoded data removed]",
      "text/plain": [
       "<Figure size 432x288 with 1 Axes>"
      ]
     },
     "metadata": {
      "needs_background": "light"
     },
     "output_type": "display_data"
    }
   ],
   "source": [
    "# distribution of Time\n",
    "time = data['Time'].values\n",
    "sns.distplot(time)\n"
   ]
  },
  {
   "cell_type": "code",
   "execution_count": 9,
   "id": "687162f8",
   "metadata": {
    "execution": {
     "iopub.execute_input": "2022-01-10T14:38:19.693438Z",
     "iopub.status.busy": "2022-01-10T14:38:19.692400Z",
     "iopub.status.idle": "2022-01-10T14:38:21.235563Z",
     "shell.execute_reply": "2022-01-10T14:38:21.236172Z",
     "shell.execute_reply.started": "2022-01-10T14:35:08.976996Z"
    },
    "papermill": {
     "duration": 1.586116,
     "end_time": "2022-01-10T14:38:21.236377",
     "exception": false,
     "start_time": "2022-01-10T14:38:19.650261",
     "status": "completed"
    },
    "tags": []
   },
   "outputs": [
    {
     "data": {
      "image/png": "[encoded data removed]",
      "text/plain": [
       "<Figure size 864x648 with 2 Axes>"
      ]
     },
     "metadata": {
      "needs_background": "light"
     },
     "output_type": "display_data"
    }
   ],
   "source": [
    "# Correlation matrix\n",
    "corrmat = data.corr()\n",
    "fig = plt.figure(figsize = (12, 9))\n",
    "\n",
    "sns.heatmap(corrmat, vmax = .8, square = True)\n",
    "plt.show()"
   ]
  },
  {
   "cell_type": "code",
   "execution_count": 10,
   "id": "01278ccd",
   "metadata": {
    "execution": {
     "iopub.execute_input": "2022-01-10T14:38:21.302593Z",
     "iopub.status.busy": "2022-01-10T14:38:21.301917Z",
     "iopub.status.idle": "2022-01-10T14:38:21.338632Z",
     "shell.execute_reply": "2022-01-10T14:38:21.339652Z",
     "shell.execute_reply.started": "2022-01-10T14:35:10.577543Z"
    },
    "papermill": {
     "duration": 0.072418,
     "end_time": "2022-01-10T14:38:21.339988",
     "exception": false,
     "start_time": "2022-01-10T14:38:21.267570",
     "status": "completed"
    },
    "tags": []
   },
   "outputs": [
    {
     "name": "stdout",
     "output_type": "stream",
     "text": [
      "<class 'pandas.core.frame.DataFrame'>\n",
      "RangeIndex: 284807 entries, 0 to 284806\n",
      "Data columns (total 31 columns):\n",
      " #   Column  Non-Null Count   Dtype  \n",
      "---  ------  --------------   -----  \n",
      " 0   Time    284807 non-null  float64\n",
      " 1   V1      284807 non-null  float64\n",
      " 2   V2      284807 non-null  float64\n",
      " 3   V3      284807 non-null  float64\n",
      " 4   V4      284807 non-null  float64\n",
      " 5   V5      284807 non-null  float64\n",
      " 6   V6      284807 non-null  float64\n",
      " 7   V7      284807 non-null  float64\n",
      " 8   V8      284807 non-null  float64\n",
      " 9   V9      284807 non-null  float64\n",
      " 10  V10     284807 non-null  float64\n",
      " 11  V11     284807 non-null  float64\n",
      " 12  V12     284807 non-null  float64\n",
      " 13  V13     284807 non-null  float64\n",
      " 14  V14     284807 non-null  float64\n",
      " 15  V15     284807 non-null  float64\n",
      " 16  V16     284807 non-null  float64\n",
      " 17  V17     284807 non-null  float64\n",
      " 18  V18     284807 non-null  float64\n",
      " 19  V19     284807 non-null  float64\n",
      " 20  V20     284807 non-null  float64\n",
      " 21  V21     284807 non-null  float64\n",
      " 22  V22     284807 non-null  float64\n",
      " 23  V23     284807 non-null  float64\n",
      " 24  V24     284807 non-null  float64\n",
      " 25  V25     284807 non-null  float64\n",
      " 26  V26     284807 non-null  float64\n",
      " 27  V27     284807 non-null  float64\n",
      " 28  V28     284807 non-null  float64\n",
      " 29  Amount  284807 non-null  float64\n",
      " 30  Class   284807 non-null  int64  \n",
      "dtypes: float64(30), int64(1)\n",
      "memory usage: 67.4 MB\n"
     ]
    }
   ],
   "source": [
    "# dataset informations\n",
    "data.info()"
   ]
  },
  {
   "cell_type": "code",
   "execution_count": 11,
   "id": "3d554789",
   "metadata": {
    "execution": {
     "iopub.execute_input": "2022-01-10T14:38:21.407261Z",
     "iopub.status.busy": "2022-01-10T14:38:21.406549Z",
     "iopub.status.idle": "2022-01-10T14:38:21.433075Z",
     "shell.execute_reply": "2022-01-10T14:38:21.432529Z",
     "shell.execute_reply.started": "2022-01-10T14:35:10.615351Z"
    },
    "papermill": {
     "duration": 0.060574,
     "end_time": "2022-01-10T14:38:21.433245",
     "exception": false,
     "start_time": "2022-01-10T14:38:21.372671",
     "status": "completed"
    },
    "tags": []
   },
   "outputs": [
    {
     "data": {
      "text/plain": [
       "Time      0\n",
       "V1        0\n",
       "V2        0\n",
       "V3        0\n",
       "V4        0\n",
       "V5        0\n",
       "V6        0\n",
       "V7        0\n",
       "V8        0\n",
       "V9        0\n",
       "V10       0\n",
       "V11       0\n",
       "V12       0\n",
       "V13       0\n",
       "V14       0\n",
       "V15       0\n",
       "V16       0\n",
       "V17       0\n",
       "V18       0\n",
       "V19       0\n",
       "V20       0\n",
       "V21       0\n",
       "V22       0\n",
       "V23       0\n",
       "V24       0\n",
       "V25       0\n",
       "V26       0\n",
       "V27       0\n",
       "V28       0\n",
       "Amount    0\n",
       "Class     0\n",
       "dtype: int64"
      ]
     },
     "execution_count": 11,
     "metadata": {},
     "output_type": "execute_result"
    }
   ],
   "source": [
    "# checking the number of missing values in each column\n",
    "data.isnull().sum()"
   ]
  },
  {
   "cell_type": "code",
   "execution_count": 12,
   "id": "917c496b",
   "metadata": {
    "execution": {
     "iopub.execute_input": "2022-01-10T14:38:21.505938Z",
     "iopub.status.busy": "2022-01-10T14:38:21.505270Z",
     "iopub.status.idle": "2022-01-10T14:38:21.508273Z",
     "shell.execute_reply": "2022-01-10T14:38:21.508774Z",
     "shell.execute_reply.started": "2022-01-10T14:35:10.645808Z"
    },
    "papermill": {
     "duration": 0.044295,
     "end_time": "2022-01-10T14:38:21.508943",
     "exception": false,
     "start_time": "2022-01-10T14:38:21.464648",
     "status": "completed"
    },
    "tags": []
   },
   "outputs": [
    {
     "data": {
      "text/plain": [
       "0    284315\n",
       "1       492\n",
       "Name: Class, dtype: int64"
      ]
     },
     "execution_count": 12,
     "metadata": {},
     "output_type": "execute_result"
    }
   ],
   "source": [
    "data['Class'].value_counts()"
   ]
  },
  {
   "cell_type": "markdown",
   "id": "9a8655c9",
   "metadata": {
    "papermill": {
     "duration": 0.032013,
     "end_time": "2022-01-10T14:38:21.572824",
     "exception": false,
     "start_time": "2022-01-10T14:38:21.540811",
     "status": "completed"
    },
    "tags": []
   },
   "source": [
    "=> ***unblanced dataset***"
   ]
  },
  {
   "cell_type": "code",
   "execution_count": 13,
   "id": "3b9759e9",
   "metadata": {
    "execution": {
     "iopub.execute_input": "2022-01-10T14:38:21.641809Z",
     "iopub.status.busy": "2022-01-10T14:38:21.639431Z",
     "iopub.status.idle": "2022-01-10T14:38:21.676751Z",
     "shell.execute_reply": "2022-01-10T14:38:21.676072Z",
     "shell.execute_reply.started": "2022-01-10T14:35:10.657562Z"
    },
    "papermill": {
     "duration": 0.071999,
     "end_time": "2022-01-10T14:38:21.676917",
     "exception": false,
     "start_time": "2022-01-10T14:38:21.604918",
     "status": "completed"
    },
    "tags": []
   },
   "outputs": [],
   "source": [
    "# separating the data for analysis\n",
    "l = data[data.Class == 0]\n",
    "f = data[data.Class == 1]"
   ]
  },
  {
   "cell_type": "code",
   "execution_count": 14,
   "id": "df1c5b11",
   "metadata": {
    "execution": {
     "iopub.execute_input": "2022-01-10T14:38:21.746764Z",
     "iopub.status.busy": "2022-01-10T14:38:21.746014Z",
     "iopub.status.idle": "2022-01-10T14:38:21.750048Z",
     "shell.execute_reply": "2022-01-10T14:38:21.749513Z",
     "shell.execute_reply.started": "2022-01-10T14:35:10.716116Z"
    },
    "papermill": {
     "duration": 0.041424,
     "end_time": "2022-01-10T14:38:21.750213",
     "exception": false,
     "start_time": "2022-01-10T14:38:21.708789",
     "status": "completed"
    },
    "tags": []
   },
   "outputs": [
    {
     "name": "stdout",
     "output_type": "stream",
     "text": [
      "(284315, 31)\n",
      "(492, 31)\n"
     ]
    }
   ],
   "source": [
    "print(l.shape)\n",
    "print(f.shape)"
   ]
  },
  {
   "cell_type": "code",
   "execution_count": 15,
   "id": "f2313a6e",
   "metadata": {
    "execution": {
     "iopub.execute_input": "2022-01-10T14:38:21.819050Z",
     "iopub.status.busy": "2022-01-10T14:38:21.818369Z",
     "iopub.status.idle": "2022-01-10T14:38:21.831616Z",
     "shell.execute_reply": "2022-01-10T14:38:21.832249Z",
     "shell.execute_reply.started": "2022-01-10T14:35:10.724154Z"
    },
    "papermill": {
     "duration": 0.049567,
     "end_time": "2022-01-10T14:38:21.832440",
     "exception": false,
     "start_time": "2022-01-10T14:38:21.782873",
     "status": "completed"
    },
    "tags": []
   },
   "outputs": [],
   "source": [
    "l_sample = l.sample(n=492)"
   ]
  },
  {
   "cell_type": "code",
   "execution_count": 16,
   "id": "90db199d",
   "metadata": {
    "execution": {
     "iopub.execute_input": "2022-01-10T14:38:21.903446Z",
     "iopub.status.busy": "2022-01-10T14:38:21.902650Z",
     "iopub.status.idle": "2022-01-10T14:38:21.906221Z",
     "shell.execute_reply": "2022-01-10T14:38:21.905670Z",
     "shell.execute_reply.started": "2022-01-10T14:35:10.752658Z"
    },
    "papermill": {
     "duration": 0.041663,
     "end_time": "2022-01-10T14:38:21.906380",
     "exception": false,
     "start_time": "2022-01-10T14:38:21.864717",
     "status": "completed"
    },
    "tags": []
   },
   "outputs": [],
   "source": [
    "new_dataset = pd.concat([l_sample, f], axis=0)"
   ]
  },
  {
   "cell_type": "code",
   "execution_count": 17,
   "id": "aaccd492",
   "metadata": {
    "execution": {
     "iopub.execute_input": "2022-01-10T14:38:21.989306Z",
     "iopub.status.busy": "2022-01-10T14:38:21.986295Z",
     "iopub.status.idle": "2022-01-10T14:38:22.003599Z",
     "shell.execute_reply": "2022-01-10T14:38:22.004199Z",
     "shell.execute_reply.started": "2022-01-10T14:35:10.760886Z"
    },
    "papermill": {
     "duration": 0.065664,
     "end_time": "2022-01-10T14:38:22.004388",
     "exception": false,
     "start_time": "2022-01-10T14:38:21.938724",
     "status": "completed"
    },
    "tags": []
   },
   "outputs": [
    {
     "data": {
      "text/html": [
       "<div>\n",
       "<style scoped>\n",
       "    .dataframe tbody tr th:only-of-type {\n",
       "        vertical-align: middle;\n",
       "    }\n",
       "\n",
       "    .dataframe tbody tr th {\n",
       "        vertical-align: top;\n",
       "    }\n",
       "\n",
       "    .dataframe thead th {\n",
       "        text-align: right;\n",
       "    }\n",
       "</style>\n",
       "<table border=\"1\" class=\"dataframe\">\n",
       "  <thead>\n",
       "    <tr style=\"text-align: right;\">\n",
       "      <th></th>\n",
       "      <th>Time</th>\n",
       "      <th>V1</th>\n",
       "      <th>V2</th>\n",
       "      <th>V3</th>\n",
       "      <th>V4</th>\n",
       "      <th>V5</th>\n",
       "      <th>V6</th>\n",
       "      <th>V7</th>\n",
       "      <th>V8</th>\n",
       "      <th>V9</th>\n",
       "      <th>...</th>\n",
       "      <th>V21</th>\n",
       "      <th>V22</th>\n",
       "      <th>V23</th>\n",
       "      <th>V24</th>\n",
       "      <th>V25</th>\n",
       "      <th>V26</th>\n",
       "      <th>V27</th>\n",
       "      <th>V28</th>\n",
       "      <th>Amount</th>\n",
       "      <th>Class</th>\n",
       "    </tr>\n",
       "  </thead>\n",
       "  <tbody>\n",
       "    <tr>\n",
       "      <th>104645</th>\n",
       "      <td>69165.0</td>\n",
       "      <td>-0.705551</td>\n",
       "      <td>0.166515</td>\n",
       "      <td>2.515584</td>\n",
       "      <td>0.930803</td>\n",
       "      <td>-0.323920</td>\n",
       "      <td>0.049336</td>\n",
       "      <td>0.513898</td>\n",
       "      <td>-0.061362</td>\n",
       "      <td>0.056577</td>\n",
       "      <td>...</td>\n",
       "      <td>0.352791</td>\n",
       "      <td>1.182706</td>\n",
       "      <td>0.151585</td>\n",
       "      <td>0.638141</td>\n",
       "      <td>-0.435187</td>\n",
       "      <td>-0.388040</td>\n",
       "      <td>0.026575</td>\n",
       "      <td>-0.033075</td>\n",
       "      <td>106.00</td>\n",
       "      <td>0</td>\n",
       "    </tr>\n",
       "    <tr>\n",
       "      <th>136039</th>\n",
       "      <td>81517.0</td>\n",
       "      <td>-0.790047</td>\n",
       "      <td>0.672163</td>\n",
       "      <td>1.845459</td>\n",
       "      <td>1.526722</td>\n",
       "      <td>-0.440721</td>\n",
       "      <td>1.266901</td>\n",
       "      <td>-0.523876</td>\n",
       "      <td>0.987123</td>\n",
       "      <td>0.217238</td>\n",
       "      <td>...</td>\n",
       "      <td>-0.228890</td>\n",
       "      <td>-0.376681</td>\n",
       "      <td>-0.009113</td>\n",
       "      <td>-0.320185</td>\n",
       "      <td>-0.372386</td>\n",
       "      <td>-0.431262</td>\n",
       "      <td>0.107847</td>\n",
       "      <td>0.064223</td>\n",
       "      <td>8.35</td>\n",
       "      <td>0</td>\n",
       "    </tr>\n",
       "    <tr>\n",
       "      <th>59235</th>\n",
       "      <td>48753.0</td>\n",
       "      <td>1.345635</td>\n",
       "      <td>-0.432155</td>\n",
       "      <td>0.207752</td>\n",
       "      <td>-0.397967</td>\n",
       "      <td>-0.632922</td>\n",
       "      <td>-0.219235</td>\n",
       "      <td>-0.489815</td>\n",
       "      <td>-0.034406</td>\n",
       "      <td>-1.161556</td>\n",
       "      <td>...</td>\n",
       "      <td>-0.449789</td>\n",
       "      <td>-0.883291</td>\n",
       "      <td>0.006894</td>\n",
       "      <td>-0.361920</td>\n",
       "      <td>0.274858</td>\n",
       "      <td>0.391202</td>\n",
       "      <td>-0.020340</td>\n",
       "      <td>0.005332</td>\n",
       "      <td>22.00</td>\n",
       "      <td>0</td>\n",
       "    </tr>\n",
       "    <tr>\n",
       "      <th>254720</th>\n",
       "      <td>156877.0</td>\n",
       "      <td>2.055364</td>\n",
       "      <td>-2.209773</td>\n",
       "      <td>0.742884</td>\n",
       "      <td>-1.148226</td>\n",
       "      <td>-2.424800</td>\n",
       "      <td>1.020713</td>\n",
       "      <td>-2.514556</td>\n",
       "      <td>0.438666</td>\n",
       "      <td>0.252089</td>\n",
       "      <td>...</td>\n",
       "      <td>-0.006937</td>\n",
       "      <td>0.863080</td>\n",
       "      <td>0.116879</td>\n",
       "      <td>-0.339508</td>\n",
       "      <td>-0.345829</td>\n",
       "      <td>0.023391</td>\n",
       "      <td>0.116789</td>\n",
       "      <td>-0.034098</td>\n",
       "      <td>49.20</td>\n",
       "      <td>0</td>\n",
       "    </tr>\n",
       "    <tr>\n",
       "      <th>95899</th>\n",
       "      <td>65516.0</td>\n",
       "      <td>-0.740888</td>\n",
       "      <td>1.034593</td>\n",
       "      <td>1.793386</td>\n",
       "      <td>-0.042590</td>\n",
       "      <td>0.357189</td>\n",
       "      <td>-0.682807</td>\n",
       "      <td>0.991939</td>\n",
       "      <td>-0.011491</td>\n",
       "      <td>-0.627242</td>\n",
       "      <td>...</td>\n",
       "      <td>-0.021066</td>\n",
       "      <td>-0.137778</td>\n",
       "      <td>-0.120406</td>\n",
       "      <td>0.350464</td>\n",
       "      <td>0.115038</td>\n",
       "      <td>-0.674171</td>\n",
       "      <td>0.081431</td>\n",
       "      <td>0.100105</td>\n",
       "      <td>11.00</td>\n",
       "      <td>0</td>\n",
       "    </tr>\n",
       "  </tbody>\n",
       "</table>\n",
       "<p>5 rows × 31 columns</p>\n",
       "</div>"
      ],
      "text/plain": [
       "            Time        V1        V2        V3        V4        V5        V6  \\\n",
       "104645   69165.0 -0.705551  0.166515  2.515584  0.930803 -0.323920  0.049336   \n",
       "136039   81517.0 -0.790047  0.672163  1.845459  1.526722 -0.440721  1.266901   \n",
       "59235    48753.0  1.345635 -0.432155  0.207752 -0.397967 -0.632922 -0.219235   \n",
       "254720  156877.0  2.055364 -2.209773  0.742884 -1.148226 -2.424800  1.020713   \n",
       "95899    65516.0 -0.740888  1.034593  1.793386 -0.042590  0.357189 -0.682807   \n",
       "\n",
       "              V7        V8        V9  ...       V21       V22       V23  \\\n",
       "104645  0.513898 -0.061362  0.056577  ...  0.352791  1.182706  0.151585   \n",
       "136039 -0.523876  0.987123  0.217238  ... -0.228890 -0.376681 -0.009113   \n",
       "59235  -0.489815 -0.034406 -1.161556  ... -0.449789 -0.883291  0.006894   \n",
       "254720 -2.514556  0.438666  0.252089  ... -0.006937  0.863080  0.116879   \n",
       "95899   0.991939 -0.011491 -0.627242  ... -0.021066 -0.137778 -0.120406   \n",
       "\n",
       "             V24       V25       V26       V27       V28  Amount  Class  \n",
       "104645  0.638141 -0.435187 -0.388040  0.026575 -0.033075  106.00      0  \n",
       "136039 -0.320185 -0.372386 -0.431262  0.107847  0.064223    8.35      0  \n",
       "59235  -0.361920  0.274858  0.391202 -0.020340  0.005332   22.00      0  \n",
       "254720 -0.339508 -0.345829  0.023391  0.116789 -0.034098   49.20      0  \n",
       "95899   0.350464  0.115038 -0.674171  0.081431  0.100105   11.00      0  \n",
       "\n",
       "[5 rows x 31 columns]"
      ]
     },
     "execution_count": 17,
     "metadata": {},
     "output_type": "execute_result"
    }
   ],
   "source": [
    "new_dataset.head()"
   ]
  },
  {
   "cell_type": "code",
   "execution_count": 18,
   "id": "c7f6a6df",
   "metadata": {
    "execution": {
     "iopub.execute_input": "2022-01-10T14:38:22.073997Z",
     "iopub.status.busy": "2022-01-10T14:38:22.073310Z",
     "iopub.status.idle": "2022-01-10T14:38:22.080336Z",
     "shell.execute_reply": "2022-01-10T14:38:22.080871Z",
     "shell.execute_reply.started": "2022-01-10T14:35:10.795994Z"
    },
    "papermill": {
     "duration": 0.042838,
     "end_time": "2022-01-10T14:38:22.081057",
     "exception": false,
     "start_time": "2022-01-10T14:38:22.038219",
     "status": "completed"
    },
    "tags": []
   },
   "outputs": [
    {
     "data": {
      "text/plain": [
       "0    492\n",
       "1    492\n",
       "Name: Class, dtype: int64"
      ]
     },
     "execution_count": 18,
     "metadata": {},
     "output_type": "execute_result"
    }
   ],
   "source": [
    "new_dataset['Class'].value_counts()"
   ]
  },
  {
   "cell_type": "code",
   "execution_count": 19,
   "id": "574b3186",
   "metadata": {
    "execution": {
     "iopub.execute_input": "2022-01-10T14:38:22.151366Z",
     "iopub.status.busy": "2022-01-10T14:38:22.150621Z",
     "iopub.status.idle": "2022-01-10T14:38:22.155853Z",
     "shell.execute_reply": "2022-01-10T14:38:22.156391Z",
     "shell.execute_reply.started": "2022-01-10T14:35:10.810502Z"
    },
    "papermill": {
     "duration": 0.041357,
     "end_time": "2022-01-10T14:38:22.156578",
     "exception": false,
     "start_time": "2022-01-10T14:38:22.115221",
     "status": "completed"
    },
    "tags": []
   },
   "outputs": [],
   "source": [
    "X = new_dataset.drop(columns='Class', axis=1)\n",
    "Y = new_dataset['Class']"
   ]
  },
  {
   "cell_type": "code",
   "execution_count": 20,
   "id": "a7a3f9a6",
   "metadata": {
    "execution": {
     "iopub.execute_input": "2022-01-10T14:38:22.227485Z",
     "iopub.status.busy": "2022-01-10T14:38:22.226797Z",
     "iopub.status.idle": "2022-01-10T14:38:22.244770Z",
     "shell.execute_reply": "2022-01-10T14:38:22.245825Z",
     "shell.execute_reply.started": "2022-01-10T14:35:10.828604Z"
    },
    "papermill": {
     "duration": 0.05505,
     "end_time": "2022-01-10T14:38:22.246112",
     "exception": false,
     "start_time": "2022-01-10T14:38:22.191062",
     "status": "completed"
    },
    "tags": []
   },
   "outputs": [
    {
     "name": "stdout",
     "output_type": "stream",
     "text": [
      "            Time        V1        V2        V3        V4        V5        V6  \\\n",
      "104645   69165.0 -0.705551  0.166515  2.515584  0.930803 -0.323920  0.049336   \n",
      "136039   81517.0 -0.790047  0.672163  1.845459  1.526722 -0.440721  1.266901   \n",
      "59235    48753.0  1.345635 -0.432155  0.207752 -0.397967 -0.632922 -0.219235   \n",
      "254720  156877.0  2.055364 -2.209773  0.742884 -1.148226 -2.424800  1.020713   \n",
      "95899    65516.0 -0.740888  1.034593  1.793386 -0.042590  0.357189 -0.682807   \n",
      "...          ...       ...       ...       ...       ...       ...       ...   \n",
      "279863  169142.0 -1.927883  1.125653 -4.518331  1.749293 -1.566487 -2.010494   \n",
      "280143  169347.0  1.378559  1.289381 -5.004247  1.411850  0.442581 -1.326536   \n",
      "280149  169351.0 -0.676143  1.126366 -2.213700  0.468308 -1.120541 -0.003346   \n",
      "281144  169966.0 -3.113832  0.585864 -5.399730  1.817092 -0.840618 -2.943548   \n",
      "281674  170348.0  1.991976  0.158476 -2.583441  0.408670  1.151147 -0.096695   \n",
      "\n",
      "              V7        V8        V9  ...       V20       V21       V22  \\\n",
      "104645  0.513898 -0.061362  0.056577  ...  0.297776  0.352791  1.182706   \n",
      "136039 -0.523876  0.987123  0.217238  ... -0.132568 -0.228890 -0.376681   \n",
      "59235  -0.489815 -0.034406 -1.161556  ... -0.425989 -0.449789 -0.883291   \n",
      "254720 -2.514556  0.438666  0.252089  ... -0.331223 -0.006937  0.863080   \n",
      "95899   0.991939 -0.011491 -0.627242  ... -0.197426 -0.021066 -0.137778   \n",
      "...          ...       ...       ...  ...       ...       ...       ...   \n",
      "279863 -0.882850  0.697211 -2.064945  ...  1.252967  0.778584 -0.319189   \n",
      "280143 -1.413170  0.248525 -1.127396  ...  0.226138  0.370612  0.028234   \n",
      "280149 -2.234739  1.210158 -0.652250  ...  0.247968  0.751826  0.834108   \n",
      "281144 -2.208002  1.058733 -1.632333  ...  0.306271  0.583276 -0.269209   \n",
      "281674  0.223050 -0.068384  0.577829  ... -0.017652 -0.164350 -0.295135   \n",
      "\n",
      "             V23       V24       V25       V26       V27       V28  Amount  \n",
      "104645  0.151585  0.638141 -0.435187 -0.388040  0.026575 -0.033075  106.00  \n",
      "136039 -0.009113 -0.320185 -0.372386 -0.431262  0.107847  0.064223    8.35  \n",
      "59235   0.006894 -0.361920  0.274858  0.391202 -0.020340  0.005332   22.00  \n",
      "254720  0.116879 -0.339508 -0.345829  0.023391  0.116789 -0.034098   49.20  \n",
      "95899  -0.120406  0.350464  0.115038 -0.674171  0.081431  0.100105   11.00  \n",
      "...          ...       ...       ...       ...       ...       ...     ...  \n",
      "279863  0.639419 -0.294885  0.537503  0.788395  0.292680  0.147968  390.00  \n",
      "280143 -0.145640 -0.081049  0.521875  0.739467  0.389152  0.186637    0.76  \n",
      "280149  0.190944  0.032070 -0.739695  0.471111  0.385107  0.194361   77.89  \n",
      "281144 -0.456108 -0.183659 -0.328168  0.606116  0.884876 -0.253700  245.00  \n",
      "281674 -0.072173 -0.450261  0.313267 -0.289617  0.002988 -0.015309   42.53  \n",
      "\n",
      "[984 rows x 30 columns]\n"
     ]
    }
   ],
   "source": [
    "print(X)"
   ]
  },
  {
   "cell_type": "code",
   "execution_count": 21,
   "id": "e60786e3",
   "metadata": {
    "execution": {
     "iopub.execute_input": "2022-01-10T14:38:22.320099Z",
     "iopub.status.busy": "2022-01-10T14:38:22.317120Z",
     "iopub.status.idle": "2022-01-10T14:38:22.322881Z",
     "shell.execute_reply": "2022-01-10T14:38:22.323628Z",
     "shell.execute_reply.started": "2022-01-10T14:35:10.857636Z"
    },
    "papermill": {
     "duration": 0.042899,
     "end_time": "2022-01-10T14:38:22.323869",
     "exception": false,
     "start_time": "2022-01-10T14:38:22.280970",
     "status": "completed"
    },
    "tags": []
   },
   "outputs": [
    {
     "name": "stdout",
     "output_type": "stream",
     "text": [
      "104645    0\n",
      "136039    0\n",
      "59235     0\n",
      "254720    0\n",
      "95899     0\n",
      "         ..\n",
      "279863    1\n",
      "280143    1\n",
      "280149    1\n",
      "281144    1\n",
      "281674    1\n",
      "Name: Class, Length: 984, dtype: int64\n"
     ]
    }
   ],
   "source": [
    "print(Y)"
   ]
  },
  {
   "cell_type": "code",
   "execution_count": 22,
   "id": "50f11567",
   "metadata": {
    "execution": {
     "iopub.execute_input": "2022-01-10T14:38:22.396338Z",
     "iopub.status.busy": "2022-01-10T14:38:22.395512Z",
     "iopub.status.idle": "2022-01-10T14:38:22.401008Z",
     "shell.execute_reply": "2022-01-10T14:38:22.401584Z",
     "shell.execute_reply.started": "2022-01-10T14:35:10.866659Z"
    },
    "papermill": {
     "duration": 0.043018,
     "end_time": "2022-01-10T14:38:22.401759",
     "exception": false,
     "start_time": "2022-01-10T14:38:22.358741",
     "status": "completed"
    },
    "tags": []
   },
   "outputs": [],
   "source": [
    "X_train, X_test, Y_train, Y_test = train_test_split(X, Y, test_size=0.2, random_state=42)"
   ]
  },
  {
   "cell_type": "code",
   "execution_count": 23,
   "id": "b04db354",
   "metadata": {
    "execution": {
     "iopub.execute_input": "2022-01-10T14:38:22.473188Z",
     "iopub.status.busy": "2022-01-10T14:38:22.472501Z",
     "iopub.status.idle": "2022-01-10T14:38:22.478155Z",
     "shell.execute_reply": "2022-01-10T14:38:22.477487Z",
     "shell.execute_reply.started": "2022-01-10T14:35:10.885974Z"
    },
    "papermill": {
     "duration": 0.042685,
     "end_time": "2022-01-10T14:38:22.478307",
     "exception": false,
     "start_time": "2022-01-10T14:38:22.435622",
     "status": "completed"
    },
    "tags": []
   },
   "outputs": [
    {
     "name": "stdout",
     "output_type": "stream",
     "text": [
      "(984, 30) (787, 30) (197, 30)\n"
     ]
    }
   ],
   "source": [
    "print(X.shape, X_train.shape, X_test.shape)"
   ]
  },
  {
   "cell_type": "code",
   "execution_count": 24,
   "id": "13c73bad",
   "metadata": {
    "execution": {
     "iopub.execute_input": "2022-01-10T14:38:22.553864Z",
     "iopub.status.busy": "2022-01-10T14:38:22.553110Z",
     "iopub.status.idle": "2022-01-10T14:38:23.041275Z",
     "shell.execute_reply": "2022-01-10T14:38:23.041820Z",
     "shell.execute_reply.started": "2022-01-10T14:35:10.899007Z"
    },
    "papermill": {
     "duration": 0.528036,
     "end_time": "2022-01-10T14:38:23.042017",
     "exception": false,
     "start_time": "2022-01-10T14:38:22.513981",
     "status": "completed"
    },
    "tags": []
   },
   "outputs": [],
   "source": [
    "\n",
    "from sklearn.ensemble import RandomForestClassifier\n",
    "rfc = RandomForestClassifier()\n",
    "rfc.fit(X_train,Y_train)\n",
    "y_pred = rfc.predict(X_test)\n",
    "acc= accuracy_score(Y_test,y_pred)\n"
   ]
  },
  {
   "cell_type": "code",
   "execution_count": 25,
   "id": "ea0c898a",
   "metadata": {
    "execution": {
     "iopub.execute_input": "2022-01-10T14:38:23.140190Z",
     "iopub.status.busy": "2022-01-10T14:38:23.130117Z",
     "iopub.status.idle": "2022-01-10T14:38:23.207378Z",
     "shell.execute_reply": "2022-01-10T14:38:23.208408Z",
     "shell.execute_reply.started": "2022-01-10T14:35:11.307091Z"
    },
    "papermill": {
     "duration": 0.124813,
     "end_time": "2022-01-10T14:38:23.208710",
     "exception": false,
     "start_time": "2022-01-10T14:38:23.083897",
     "status": "completed"
    },
    "tags": []
   },
   "outputs": [],
   "source": [
    "model = LogisticRegression()\n",
    "model.fit(X_train, Y_train)\n",
    "X_train_prediction = model.predict(X_train)\n",
    "training_data_accuracy = accuracy_score(X_train_prediction, Y_train)\n",
    "X_test_prediction = model.predict(X_test)\n",
    "accuracy = accuracy_score(X_test_prediction, Y_test)\n"
   ]
  },
  {
   "cell_type": "code",
   "execution_count": 26,
   "id": "b4ac3ad3",
   "metadata": {
    "execution": {
     "iopub.execute_input": "2022-01-10T14:38:23.334972Z",
     "iopub.status.busy": "2022-01-10T14:38:23.334262Z",
     "iopub.status.idle": "2022-01-10T14:38:23.339320Z",
     "shell.execute_reply": "2022-01-10T14:38:23.339875Z",
     "shell.execute_reply.started": "2022-01-10T14:35:11.392138Z"
    },
    "papermill": {
     "duration": 0.067639,
     "end_time": "2022-01-10T14:38:23.340051",
     "exception": false,
     "start_time": "2022-01-10T14:38:23.272412",
     "status": "completed"
    },
    "tags": []
   },
   "outputs": [],
   "source": [
    "acc1=f1_score(Y_test,y_pred)\n",
    "accuracy1 = f1_score(Y_test,y_pred)"
   ]
  },
  {
   "cell_type": "code",
   "execution_count": 27,
   "id": "ea4ee01a",
   "metadata": {
    "execution": {
     "iopub.execute_input": "2022-01-10T14:38:23.412257Z",
     "iopub.status.busy": "2022-01-10T14:38:23.411494Z",
     "iopub.status.idle": "2022-01-10T14:38:23.417442Z",
     "shell.execute_reply": "2022-01-10T14:38:23.417993Z",
     "shell.execute_reply.started": "2022-01-10T14:35:11.406625Z"
    },
    "papermill": {
     "duration": 0.043363,
     "end_time": "2022-01-10T14:38:23.418188",
     "exception": false,
     "start_time": "2022-01-10T14:38:23.374825",
     "status": "completed"
    },
    "tags": []
   },
   "outputs": [
    {
     "name": "stdout",
     "output_type": "stream",
     "text": [
      "The accuracy of Logistic Regression  is  0.9238578680203046\n",
      "The accuracy of Random Forest Classifier  is  0.9187817258883249\n",
      "The accuracy of Logistic Regression  is  0.9157894736842105\n",
      "The accuracy of Random Forest Classifier  is  0.9157894736842105\n"
     ]
    }
   ],
   "source": [
    "\n",
    "print(\"The accuracy of Logistic Regression  is  {}\".format(accuracy))\n",
    "print(\"The accuracy of Random Forest Classifier  is  {}\".format(acc))\n",
    "print(\"The accuracy of Logistic Regression  is  {}\".format(accuracy1))\n",
    "print(\"The accuracy of Random Forest Classifier  is  {}\".format(acc1))"
   ]
  },
  {
   "cell_type": "code",
   "execution_count": null,
   "id": "8d344729",
   "metadata": {
    "papermill": {
     "duration": 0.034087,
     "end_time": "2022-01-10T14:38:23.486705",
     "exception": false,
     "start_time": "2022-01-10T14:38:23.452618",
     "status": "completed"
    },
    "tags": []
   },
   "outputs": [],
   "source": []
  },
  {
   "cell_type": "code",
   "execution_count": null,
   "id": "5cd4f1f9",
   "metadata": {
    "papermill": {
     "duration": 0.033913,
     "end_time": "2022-01-10T14:38:23.555826",
     "exception": false,
     "start_time": "2022-01-10T14:38:23.521913",
     "status": "completed"
    },
    "tags": []
   },
   "outputs": [],
   "source": []
  }
 ],
 "metadata": {
  "kernelspec": {
   "display_name": "Python 3",
   "language": "python",
   "name": "python3"
  },
  "language_info": {
   "codemirror_mode": {
    "name": "ipython",
    "version": 3
   },
   "file_extension": ".py",
   "mimetype": "text/x-python",
   "name": "python",
   "nbconvert_exporter": "python",
   "pygments_lexer": "ipython3",
   "version": "3.7.10"
  },
  "papermill": {
   "default_parameters": {},
   "duration": 24.527434,
   "end_time": "2022-01-10T14:38:24.301724",
   "environment_variables": {},
   "exception": null,
   "input_path": "__notebook__.ipynb",
   "output_path": "__notebook__.ipynb",
   "parameters": {},
   "start_time": "2022-01-10T14:37:59.774290",
   "version": "2.3.3"
  }
 },
 "nbformat": 4,
 "nbformat_minor": 5
}
